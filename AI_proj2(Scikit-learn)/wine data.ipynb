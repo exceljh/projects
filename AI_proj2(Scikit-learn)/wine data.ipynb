{
 "cells": [
  {
   "cell_type": "markdown",
   "metadata": {},
   "source": [
    "# Classification Project"
   ]
  },
  {
   "cell_type": "markdown",
   "metadata": {},
   "source": [
    "## File IO\n",
    "\n",
    "Only File IO...\n",
    "\n",
    "You may not change this code."
   ]
  },
  {
   "cell_type": "code",
   "execution_count": 1,
   "metadata": {},
   "outputs": [
    {
     "name": "stderr",
     "output_type": "stream",
     "text": [
      "C:\\Users\\wlgns\\Anaconda3\\lib\\site-packages\\ipykernel\\parentpoller.py:116: UserWarning: Parent poll failed.  If the frontend dies,\n",
      "                the kernel may be left running.  Please let us know\n",
      "                about your system (bitness, Python, etc.) at\n",
      "                ipython-dev@scipy.org\n",
      "  ipython-dev@scipy.org\"\"\")\n"
     ]
    }
   ],
   "source": [
    "from tkinter.filedialog import askopenfilename\n",
    "import pandas as pd\n",
    "import tkinter\n",
    "import os\n",
    "\n",
    "tk_window = tkinter.Tk()\n",
    "cwd = os.getcwd()\n",
    "\n",
    "tr_data = pd.read_csv(askopenfilename(title='Choose your training data'))\n",
    "\n",
    "tr_ans = pd.read_csv(askopenfilename(title='Choose your training answer'))\n",
    "\n",
    "tr_ans = tr_ans.iloc[:, 0]\n",
    "\n",
    "ts_data = pd.read_csv(askopenfilename(title='Choose your test data'))\n",
    "\n",
    "tk_window.destroy()\n",
    "\n"
   ]
  },
  {
   "cell_type": "markdown",
   "metadata": {},
   "source": [
    "## Predict Algorithm\n",
    "\n",
    "Type your source code (Champion Algorithm)"
   ]
  },
  {
   "cell_type": "code",
   "execution_count": 10,
   "metadata": {},
   "outputs": [],
   "source": [
    "from sklearn.ensemble import RandomForestClassifier\n",
    "\n",
    "\n",
    "random_forest = RandomForestClassifier(random_state = 42, criterion='entropy', n_estimators = 50, max_depth = 10)\n",
    "\n",
    "random_forest = random_forest.fit(tr_data, tr_ans)\n",
    "\n",
    "y_pred = random_forest.predict(ts_data)\n",
    "\n",
    "pred_df = pd.DataFrame(y_pred)\n",
    "\n",
    "pred_df.to_csv(\"output.csv\", mode='w')\n",
    "\n",
    "# End of Demo"
   ]
  },
  {
   "cell_type": "code",
   "execution_count": 2,
   "metadata": {},
   "outputs": [],
   "source": [
    "from sklearn.ensemble import ExtraTreesClassifier\n",
    "\n",
    "EC = ExtraTreesClassifier(random_state=42, n_estimators=150, max_features=3 )\n",
    "EC = EC.fit(tr_data, tr_ans)\n",
    "\n",
    "y_pred = EC.predict(ts_data)\n",
    "pred_df = pd.DataFrame(y_pred)\n",
    "\n",
    "pred_df.to_csv(\"output.csv\", mode='w')\n",
    "# End of Demo"
   ]
  },
  {
   "cell_type": "markdown",
   "metadata": {},
   "source": [
    "\n",
    "## Check Accuracy\n",
    "\n",
    "Only for check accuracy"
   ]
  },
  {
   "cell_type": "code",
   "execution_count": 3,
   "metadata": {
    "scrolled": true
   },
   "outputs": [
    {
     "name": "stdout",
     "output_type": "stream",
     "text": [
      "0.9942285494420932\n",
      "0.9942285494420932\n",
      "Confusion Matrix:\n",
      "[[1247   21]\n",
      " [   9 3921]]\n",
      "\n"
     ]
    }
   ],
   "source": [
    "def accuracy(real, predict):\n",
    "    return sum(real == predict) / float(real.shape[0])\n",
    "\n",
    "tk_window = tkinter.Tk()\n",
    "cwd = os.getcwd()\n",
    "ts_ans = pd.read_csv(askopenfilename(title='Choose your test answer'))\n",
    "ts_ans = ts_ans.iloc[:, 0]\n",
    "tk_window.destroy()\n",
    "\n",
    "print(accuracy(ts_ans, y_pred))\n",
    "\n",
    "from sklearn.metrics import confusion_matrix\n",
    "print(accuracy(ts_ans, y_pred))\n",
    "print(\"Confusion Matrix:\\n{}\\n\".format(confusion_matrix(ts_ans, y_pred)))"
   ]
  },
  {
   "cell_type": "code",
   "execution_count": 4,
   "metadata": {},
   "outputs": [
    {
     "name": "stdout",
     "output_type": "stream",
     "text": [
      "0.9940361677568296 1\n",
      "0.9946133128126202 2\n",
      "0.9942285494420932 3\n",
      "0.9948056944978838 4\n",
      "0.9946133128126202 5\n",
      "0.9948056944978838 6\n",
      "0.9948056944978838 7\n",
      "0.9944209311273566 8\n",
      "0.9948056944978838 9\n",
      "0.993843786071566 10\n",
      "0.993843786071566 11\n",
      "0.9942285494420932 12\n"
     ]
    }
   ],
   "source": [
    "k_range = list(range(1,13, 1))\n",
    "scores = []\n",
    "for k in k_range:\n",
    "    #knn = KNeighborsClassifier(n_neighbors=k)\n",
    "    #knn.fit(X_train, y_train)\n",
    "    #y_pred = knn.predict(X_test)\n",
    "    EC = ExtraTreesClassifier(random_state=42, n_estimators=150, max_features=k)\n",
    "    EC = EC.fit(tr_data, tr_ans)\n",
    "    y_pred = EC.predict(ts_data)\n",
    "    pred_df = pd.DataFrame(y_pred)\n",
    "    scores.append(accuracy(ts_ans, y_pred))\n",
    "    print(accuracy(ts_ans, y_pred), k)\n",
    "    #99.76 108~190\n",
    "#k=3 "
   ]
  },
  {
   "cell_type": "code",
   "execution_count": null,
   "metadata": {},
   "outputs": [],
   "source": []
  }
 ],
 "metadata": {
  "kernelspec": {
   "display_name": "Python 3",
   "language": "python",
   "name": "python3"
  },
  "language_info": {
   "codemirror_mode": {
    "name": "ipython",
    "version": 3
   },
   "file_extension": ".py",
   "mimetype": "text/x-python",
   "name": "python",
   "nbconvert_exporter": "python",
   "pygments_lexer": "ipython3",
   "version": "3.7.0"
  }
 },
 "nbformat": 4,
 "nbformat_minor": 2
}
