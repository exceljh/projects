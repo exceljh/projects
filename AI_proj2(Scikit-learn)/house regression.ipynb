{
 "cells": [
  {
   "cell_type": "markdown",
   "metadata": {},
   "source": [
    "# Regression Project"
   ]
  },
  {
   "cell_type": "markdown",
   "metadata": {},
   "source": [
    "## File IO\n",
    "\n",
    "Only File IO...\n",
    "\n",
    "You may not change this code."
   ]
  },
  {
   "cell_type": "code",
   "execution_count": 1,
   "metadata": {},
   "outputs": [],
   "source": [
    "from tkinter.filedialog import askopenfilename\n",
    "import pandas as pd\n",
    "import tkinter\n",
    "import os\n",
    "\n",
    "tk_window = tkinter.Tk()\n",
    "cwd = os.getcwd()\n",
    "\n",
    "tr_data = pd.read_csv(askopenfilename(title='Choose your training data'))\n",
    "\n",
    "tr_ans = pd.read_csv(askopenfilename(title='Choose your training answer'))\n",
    "\n",
    "tr_ans = tr_ans.iloc[:, 0]\n",
    "\n",
    "ts_data = pd.read_csv(askopenfilename(title='Choose your test data'))\n",
    "\n",
    "tk_window.destroy()\n",
    "\n",
    "\n"
   ]
  },
  {
   "cell_type": "markdown",
   "metadata": {},
   "source": [
    "## Predict Algorithm\n",
    "\n",
    "Type your source code (Champion Algorithm)"
   ]
  },
  {
   "cell_type": "code",
   "execution_count": 2,
   "metadata": {},
   "outputs": [],
   "source": [
    "import numpy as np\n",
    "\n",
    "#Delete String columns\n",
    "string_columns = tr_data.dtypes\n",
    "string_boolidx = string_columns == np.object\n",
    "\n",
    "tr_data_num = tr_data.drop(tr_data.columns[string_boolidx], axis=1)\n",
    "ts_data_num = ts_data.drop(ts_data.columns[string_boolidx], axis=1)\n",
    "\n",
    "\n",
    "#delete NaN columns\n",
    "tr_nan_idx = tr_data_num.isna().any()\n",
    "ts_nan_idx = ts_data_num.isna().any()\n",
    "\n",
    "total_nan_idx = np.logical_or(tr_nan_idx, ts_nan_idx)\n",
    "\n",
    "tr_data_pre = tr_data_num.drop(tr_data_num.columns[total_nan_idx], axis=1)\n",
    "ts_data_pre = ts_data_num.drop(ts_data_num.columns[total_nan_idx], axis=1)\n"
   ]
  },
  {
   "cell_type": "code",
   "execution_count": 2,
   "metadata": {},
   "outputs": [
    {
     "ename": "NameError",
     "evalue": "name 'tr_data_pre' is not defined",
     "output_type": "error",
     "traceback": [
      "\u001b[1;31m---------------------------------------------------------------------------\u001b[0m",
      "\u001b[1;31mNameError\u001b[0m                                 Traceback (most recent call last)",
      "\u001b[1;32m<ipython-input-2-b3633255684a>\u001b[0m in \u001b[0;36m<module>\u001b[1;34m()\u001b[0m\n\u001b[0;32m      3\u001b[0m \u001b[1;33m\u001b[0m\u001b[0m\n\u001b[0;32m      4\u001b[0m \u001b[1;31m#shape\u001b[0m\u001b[1;33m\u001b[0m\u001b[1;33m\u001b[0m\u001b[0m\n\u001b[1;32m----> 5\u001b[1;33m \u001b[0mprint\u001b[0m\u001b[1;33m(\u001b[0m\u001b[1;34m'Shape all_data: {}'\u001b[0m\u001b[1;33m.\u001b[0m\u001b[0mformat\u001b[0m\u001b[1;33m(\u001b[0m\u001b[0mtr_data_pre\u001b[0m\u001b[1;33m.\u001b[0m\u001b[0mshape\u001b[0m\u001b[1;33m)\u001b[0m\u001b[1;33m)\u001b[0m\u001b[1;33m\u001b[0m\u001b[0m\n\u001b[0m\u001b[0;32m      6\u001b[0m \u001b[1;33m\u001b[0m\u001b[0m\n\u001b[0;32m      7\u001b[0m \u001b[0mtr_data_pre\u001b[0m\u001b[1;33m[\u001b[0m\u001b[1;34m'TotalSF'\u001b[0m\u001b[1;33m]\u001b[0m \u001b[1;33m=\u001b[0m \u001b[0mtr_data_pre\u001b[0m\u001b[1;33m[\u001b[0m\u001b[1;34m'TotalBsmtSF'\u001b[0m\u001b[1;33m]\u001b[0m \u001b[1;33m+\u001b[0m \u001b[0mtr_data_pre\u001b[0m\u001b[1;33m[\u001b[0m\u001b[1;34m'1stFlrSF'\u001b[0m\u001b[1;33m]\u001b[0m \u001b[1;33m+\u001b[0m \u001b[0mtr_data_pre\u001b[0m\u001b[1;33m[\u001b[0m\u001b[1;34m'2ndFlrSF'\u001b[0m\u001b[1;33m]\u001b[0m\u001b[1;33m\u001b[0m\u001b[0m\n",
      "\u001b[1;31mNameError\u001b[0m: name 'tr_data_pre' is not defined"
     ]
    }
   ],
   "source": [
    "from scipy import stats\n",
    "from scipy.stats import skew,norm\n",
    "\n",
    "#shape\n",
    "print('Shape all_data: {}'.format(tr_data_pre.shape))\n",
    "\n",
    "tr_data_pre['TotalSF'] = tr_data_pre['TotalBsmtSF'] + tr_data_pre['1stFlrSF'] + tr_data_pre['2ndFlrSF']\n",
    "ts_data_pre['TotalSF'] = ts_data_pre['TotalBsmtSF'] + ts_data_pre['1stFlrSF'] + ts_data_pre['2ndFlrSF']\n",
    "\n",
    "\n",
    "numeric_features = tr_data_pre.dtypes[tr_data_pre.dtypes != \"object\"].index\n",
    "\n",
    "skewed_features = tr_data_pre[numeric_features].apply(lambda x : skew (x.dropna())).sort_values(ascending=False)\n",
    "#compute skewness\n",
    "print (\"\\skew in numerical features: \\n\")\n",
    "skewness = pd.DataFrame({'Skew' :skewed_features})   \n",
    "skewness.head(7)\n",
    "\n",
    "\n",
    "skewness = skewness[abs(skewness) > 0.75]\n",
    "print (\"There are {} skewed numerical features to box cox transform\".format(skewness.shape[0]))\n",
    "\n",
    "from scipy.special import boxcox1p \n",
    "skewed_features = skewness.index\n",
    "lam = 0.15\n",
    "for feat in skewed_features:\n",
    "    tr_data_pre[feat] = boxcox1p(tr_data_pre[feat], lam)\n",
    "    ts_data_pre[feat] = boxcox1p(ts_data_pre[feat], lam)\n",
    "    \n",
    "tr_data_pre = pd.get_dummies(tr_data_pre)\n",
    "ts_data_pre = pd.get_dummies(ts_data_pre)\n",
    "\n",
    "\n",
    "\n"
   ]
  },
  {
   "cell_type": "code",
   "execution_count": 68,
   "metadata": {},
   "outputs": [],
   "source": [
    "from sklearn.ensemble import GradientBoostingRegressor\n",
    "\n",
    "rg = GradientBoostingRegressor(random_state=42, n_estimators=140)\n",
    "rg.fit(tr_data_pre, tr_ans)\n",
    "\n",
    "y_pred = rg.predict(ts_data_pre)\n",
    "\n",
    "\n",
    "pred_df = pd.DataFrame(y_pred)\n",
    "\n",
    "pred_df.to_csv(\"output.csv\", mode='w')"
   ]
  },
  {
   "cell_type": "code",
   "execution_count": 29,
   "metadata": {},
   "outputs": [],
   "source": [
    "from sklearn.ensemble import ExtraTreesRegressor\n",
    "\n",
    "ER = ExtraTreesRegressor(n_estimators=130)\n",
    "ER = ER.fit(tr_data_pre, tr_ans)\n",
    "\n",
    "y_pred = ER.predict(ts_data_pre)\n",
    "pred_df = pd.DataFrame(y_pred)\n",
    "\n",
    "pred_df.to_csv(\"output.csv\", mode='w')\n",
    "\n"
   ]
  },
  {
   "cell_type": "code",
   "execution_count": 3,
   "metadata": {},
   "outputs": [],
   "source": [
    "from sklearn.linear_model import Lasso\n",
    "from sklearn.preprocessing import RobustScaler\n",
    "from sklearn.ensemble import GradientBoostingRegressor\n",
    "from sklearn.pipeline import make_pipeline\n",
    "from sklearn.model_selection import KFold, cross_val_score, train_test_split\n",
    "from sklearn.metrics import mean_squared_error\n",
    "from sklearn.base import BaseEstimator, TransformerMixin, RegressorMixin, clone\n",
    "\n",
    "#Gradient Boosting Regression\n",
    "GBoost = GradientBoostingRegressor(learning_rate=0.012100000000000003, n_estimators=994,\n",
    "                                  max_depth=4,\n",
    "                                   random_state=42, criterion= 'mse')\n",
    "#max_features='sqrt'  min_samples_leaf=15,min_samples_split=10,\n",
    "GBoost.fit(tr_data_pre, tr_ans)\n",
    "\n",
    "y_pred=GBoost.predict(ts_data_pre)\n",
    "pred_df = pd.DataFrame(y_pred)\n",
    "\n",
    "pred_df.to_csv(\"output.csv\", mode='w')\n"
   ]
  },
  {
   "cell_type": "code",
   "execution_count": 71,
   "metadata": {},
   "outputs": [],
   "source": []
  },
  {
   "cell_type": "markdown",
   "metadata": {},
   "source": [
    "## Check Accuracy\n",
    "\n",
    "Only for check accuracy"
   ]
  },
  {
   "cell_type": "code",
   "execution_count": 4,
   "metadata": {},
   "outputs": [
    {
     "name": "stdout",
     "output_type": "stream",
     "text": [
      "20601.195541934147\n"
     ]
    }
   ],
   "source": [
    "from sklearn.metrics import mean_squared_error\n",
    "\n",
    "\n",
    "def rmse(ytrue, ypredicted):\n",
    "    return np.sqrt(mean_squared_error(ytrue, ypredicted))\n",
    "\n",
    "tk_window = tkinter.Tk()\n",
    "cwd = os.getcwd()\n",
    "ts_ans = pd.read_csv(askopenfilename(title='Choose your test answer'))\n",
    "ts_ans = ts_ans.iloc[:, 0]\n",
    "tk_window.destroy()\n",
    "\n",
    "print(rmse(ts_ans, y_pred))"
   ]
  },
  {
   "cell_type": "code",
   "execution_count": 5,
   "metadata": {},
   "outputs": [
    {
     "data": {
      "image/png": "[encoded data removed]",
      "text/plain": [
       "<Figure size 720x720 with 1 Axes>"
      ]
     },
     "metadata": {
      "needs_background": "light"
     },
     "output_type": "display_data"
    }
   ],
   "source": [
    "import matplotlib.pyplot as plt\n",
    "import seaborn as sns\n",
    "%matplotlib inline\n",
    "\n",
    "plt.figure(figsize=(10,10))\n",
    "sns.set_context('talk')\n",
    "sns.set_style('ticks')\n",
    "sns.set_palette('dark')\n",
    "\n",
    "ax = plt.axes()\n",
    "# we are going to use y_test, y_test_pred\n",
    "ax.scatter(ts_ans, y_pred, alpha=.1)\n",
    "\n",
    "ax.set(xlabel='Ground truth', \n",
    "       ylabel='Predictions',\n",
    "       title='Ames, Iowa House Price Predictions vs Truth, using Linear Regression');"
   ]
  },
  {
   "cell_type": "code",
   "execution_count": null,
   "metadata": {},
   "outputs": [
    {
     "name": "stdout",
     "output_type": "stream",
     "text": [
      "28270.714367564768 1\n",
      "23665.09424293333 2\n",
      "22036.134946469923 3\n",
      "20601.195541934147 4\n",
      "22400.95070331278 5\n",
      "22327.82001660314 6\n"
     ]
    }
   ],
   "source": [
    "k_range = list(range(1,10, 1))\n",
    "scores = []\n",
    "for k in k_range:\n",
    "    #knn = KNeighborsClassifier(n_neighbors=k)\n",
    "    #knn.fit(X_train, y_train)\n",
    "    #y_pred = knn.predict(X_test)\n",
    "    GBoost = GradientBoostingRegressor(learning_rate=0.012100000000000003, n_estimators=994,\n",
    "                                 max_depth=k,\n",
    "                                   random_state=42, criterion= 'mse')\n",
    "#max_features='sqrt'  min_samples_leaf=15,min_samples_split=10,\n",
    "    GBoost.fit(tr_data_pre, tr_ans)\n",
    "    y_pred=GBoost.predict(ts_data_pre)\n",
    "    pred_df = pd.DataFrame(y_pred)\n",
    "    scores.append(rmse(ts_ans, y_pred))\n",
    "    print(rmse(ts_ans, y_pred),k)\n",
    "    \n",
    "#1003\n",
    "plt.plot(k_range, scores)\n",
    "plt.xlabel('Value of k for model')\n",
    "plt.ylabel('Accuracy Score')\n",
    "plt.title('Accuracy Scores for Values of k of model')\n",
    "plt.show()"
   ]
  }
 ],
 "metadata": {
  "kernelspec": {
   "display_name": "Python 3",
   "language": "python",
   "name": "python3"
  },
  "language_info": {
   "codemirror_mode": {
    "name": "ipython",
    "version": 3
   },
   "file_extension": ".py",
   "mimetype": "text/x-python",
   "name": "python",
   "nbconvert_exporter": "python",
   "pygments_lexer": "ipython3",
   "version": "3.7.0"
  }
 },
 "nbformat": 4,
 "nbformat_minor": 2
}
