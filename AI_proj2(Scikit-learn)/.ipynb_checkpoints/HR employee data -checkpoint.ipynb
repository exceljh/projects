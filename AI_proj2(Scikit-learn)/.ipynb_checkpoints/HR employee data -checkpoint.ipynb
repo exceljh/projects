{
 "cells": [
  {
   "cell_type": "markdown",
   "metadata": {},
   "source": [
    "# Classification Project"
   ]
  },
  {
   "cell_type": "markdown",
   "metadata": {},
   "source": [
    "## File IO\n",
    "\n",
    "Only File IO...\n",
    "\n",
    "You may not change this code."
   ]
  },
  {
   "cell_type": "code",
   "execution_count": 5,
   "metadata": {},
   "outputs": [],
   "source": [
    "from tkinter.filedialog import askopenfilename\n",
    "import pandas as pd\n",
    "import tkinter\n",
    "import os\n",
    "\n",
    "tk_window = tkinter.Tk()\n",
    "cwd = os.getcwd()\n",
    "\n",
    "tr_data = pd.read_csv(askopenfilename(title='Choose your training data'))\n",
    "\n",
    "tr_ans = pd.read_csv(askopenfilename(title='Choose your training answer'))\n",
    "\n",
    "tr_ans = tr_ans.iloc[:, 0]\n",
    "\n",
    "ts_data = pd.read_csv(askopenfilename(title='Choose your test data'))\n",
    "\n",
    "tk_window.destroy()\n",
    "\n"
   ]
  },
  {
   "cell_type": "markdown",
   "metadata": {},
   "source": [
    "## Predict Algorithm\n",
    "\n",
    "Type your source code (Champion Algorithm)"
   ]
  },
  {
   "cell_type": "code",
   "execution_count": 6,
   "metadata": {},
   "outputs": [],
   "source": [
    "from sklearn.preprocessing import LabelEncoder, LabelBinarizer\n",
    "\n",
    "le =LabelBinarizer()\n",
    "tr_data['department'] = le.fit_transform(tr_data.department)\n",
    "ts_data['department'] = le.fit_transform(ts_data.department)\n",
    "\n",
    "tr_data.drop(['number_of_projects'], axis = 1, inplace =True)\n",
    "ts_data.drop(['number_of_projects'], axis = 1, inplace =True)\n"
   ]
  },
  {
   "cell_type": "code",
   "execution_count": 11,
   "metadata": {},
   "outputs": [],
   "source": [
    "import warnings\n",
    "warnings.filterwarnings('ignore', module='sklearn')\n",
    "\n",
    "from sklearn.preprocessing import MinMaxScaler\n",
    "\n",
    "msc =  MinMaxScaler()\n",
    "\n",
    "tr_data = pd.DataFrame(msc.fit_transform(tr_data),  # this is an np.array, not a dataframe.\n",
    "                    columns=tr_data.columns)\n",
    "\n",
    "ts_data = pd.DataFrame(msc.fit_transform(ts_data),  # this is an np.array, not a dataframe.\n",
    "                    columns=tr_data.columns)\n",
    "\n",
    "\n",
    "from sklearn.neighbors import KNeighborsClassifier\n",
    "\n",
    "knn = KNeighborsClassifier(n_neighbors=5500, weights='distance',leaf_size=100, algorithm='kd_tree',n_jobs=-1)\n",
    "\n",
    "knn = knn.fit(tr_data, tr_ans)\n",
    "\n",
    "y_pred = knn.predict(ts_data)\n",
    "\n",
    "pred_df = pd.DataFrame(y_pred)\n",
    "\n",
    "pred_df.to_csv(\"output.csv\", mode='w')\n",
    "\n",
    "# End of Demo"
   ]
  },
  {
   "cell_type": "code",
   "execution_count": null,
   "metadata": {},
   "outputs": [],
   "source": [
    "import warnings\n",
    "warnings.filterwarnings('ignore', module='sklearn')\n",
    "\n",
    "from sklearn.preprocessing import MinMaxScaler\n",
    "\n",
    "msc =  MinMaxScaler()\n",
    "\n",
    "tr_data = pd.DataFrame(msc.fit_transform(tr_data),  # this is an np.array, not a dataframe.\n",
    "                    columns=tr_data.columns)\n",
    "\n",
    "ts_data = pd.DataFrame(msc.fit_transform(ts_data),  # this is an np.array, not a dataframe.\n",
    "                    columns=tr_data.columns)\n",
    "\n",
    "\n",
    "from sklearn.ensemble import ExtraTreesClassifier\n",
    "\n",
    "EC = ExtraTreesClassifier(random_state=42, n_estimators=150)\n",
    "EC = EC.fit(tr_data, tr_ans)\n",
    "\n",
    "y_pred = EC.predict(ts_data)\n",
    "pred_df = pd.DataFrame(y_pred)\n",
    "\n",
    "pred_df.to_csv(\"output.csv\", mode='w')\n",
    "# End of Demo"
   ]
  },
  {
   "cell_type": "markdown",
   "metadata": {},
   "source": [
    "## Check Accuracy\n",
    "\n",
    "Only for check accuracy"
   ]
  },
  {
   "cell_type": "code",
   "execution_count": 12,
   "metadata": {},
   "outputs": [
    {
     "name": "stdout",
     "output_type": "stream",
     "text": [
      "0.6278759586528843\n",
      "0.6278759586528843\n",
      "Confusion Matrix:\n",
      "[[  59  167   10]\n",
      " [   0 1400   48]\n",
      " [   1  890  424]]\n",
      "\n"
     ]
    }
   ],
   "source": [
    "def accuracy(real, predict):\n",
    "    return sum(real == predict) / float(real.shape[0])\n",
    "\n",
    "tk_window = tkinter.Tk()\n",
    "cwd = os.getcwd()\n",
    "ts_ans = pd.read_csv(askopenfilename(title='Choose your test answer'))\n",
    "ts_ans = ts_ans.iloc[:, 0]\n",
    "tk_window.destroy()\n",
    "\n",
    "print(accuracy(ts_ans, y_pred))\n",
    "\n",
    "from sklearn.metrics import confusion_matrix, classification_report, accuracy_score\n",
    "print(accuracy(ts_ans, y_pred))\n",
    "print(\"Confusion Matrix:\\n{}\\n\".format(confusion_matrix(ts_ans, y_pred)))"
   ]
  },
  {
   "cell_type": "code",
   "execution_count": null,
   "metadata": {},
   "outputs": [],
   "source": [
    "k_range = list(range(1,17, 1))\n",
    "scores = []\n",
    "for k in k_range:\n",
    "    #knn = KNeighborsClassifier(n_neighbors=k)\n",
    "    #knn.fit(X_train, y_train)\n",
    "    #y_pred = knn.predict(X_test)\n",
    "    EC = ExtraTreesClassifier(random_state=42, n_estimators=195, max_features=k)\n",
    "    EC = EC.fit(tr_data, tr_ans)\n",
    "    y_pred = EC.predict(ts_data)\n",
    "    pred_df = pd.DataFrame(y_pred)\n",
    "    scores.append(accuracy(ts_ans, y_pred))\n",
    "    print(accuracy(ts_ans, y_pred), k)\n",
    "   #15,8,7\n",
    "    #102, 158, 166 168 \"195\" 237 239=15 241"
   ]
  }
 ],
 "metadata": {
  "kernelspec": {
   "display_name": "Python 3",
   "language": "python",
   "name": "python3"
  },
  "language_info": {
   "codemirror_mode": {
    "name": "ipython",
    "version": 3
   },
   "file_extension": ".py",
   "mimetype": "text/x-python",
   "name": "python",
   "nbconvert_exporter": "python",
   "pygments_lexer": "ipython3",
   "version": "3.7.0"
  }
 },
 "nbformat": 4,
 "nbformat_minor": 2
}
