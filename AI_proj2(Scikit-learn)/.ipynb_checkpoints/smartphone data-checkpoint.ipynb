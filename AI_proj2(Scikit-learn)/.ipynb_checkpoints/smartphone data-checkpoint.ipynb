{
 "cells": [
  {
   "cell_type": "markdown",
   "metadata": {},
   "source": [
    "# Classification Project"
   ]
  },
  {
   "cell_type": "markdown",
   "metadata": {},
   "source": [
    "## File IO\n",
    "\n",
    "Only File IO...\n",
    "\n",
    "You may not change this code."
   ]
  },
  {
   "cell_type": "code",
   "execution_count": 1,
   "metadata": {},
   "outputs": [],
   "source": [
    "from tkinter.filedialog import askopenfilename\n",
    "import pandas as pd\n",
    "import tkinter\n",
    "import os\n",
    "\n",
    "tk_window = tkinter.Tk()\n",
    "cwd = os.getcwd()\n",
    "\n",
    "tr_data = pd.read_csv(askopenfilename(title='Choose your training data'))\n",
    "\n",
    "tr_ans = pd.read_csv(askopenfilename(title='Choose your training answer'))\n",
    "\n",
    "tr_ans = tr_ans.iloc[:, 0]\n",
    "\n",
    "ts_data = pd.read_csv(askopenfilename(title='Choose your test data'))\n",
    "\n",
    "tk_window.destroy()"
   ]
  },
  {
   "cell_type": "markdown",
   "metadata": {},
   "source": [
    "## Predict Algorithm\n",
    "\n",
    "Type your source code (Champion Algorithm)"
   ]
  },
  {
   "cell_type": "code",
   "execution_count": 2,
   "metadata": {},
   "outputs": [],
   "source": [
    "#smartphone\n",
    "from sklearn.linear_model import LogisticRegression\n",
    "logreg = LogisticRegression()\n",
    "logreg.fit(tr_data, tr_ans)\n",
    "\n",
    "\n",
    "y_pred = logreg.predict(ts_data)\n",
    "\n",
    "pred_df = pd.DataFrame(y_pred)\n",
    "\n",
    "pred_df.to_csv(\"output.csv\", mode='w')from sklearn.linear_model import Lasso\n",
    "from sklearn.preprocessing import RobustScaler\n",
    "from sklearn.ensemble import GradientBoostingRegressor\n",
    "from sklearn.pipeline import make_pipeline\n",
    "from sklearn.model_selection import KFold, cross_val_score, train_test_split\n",
    "from sklearn.metrics import mean_squared_error\n",
    "from sklearn.base import BaseEstimator, TransformerMixin, RegressorMixin, clone\n",
    "\n",
    "#Gradient Boosting Regression\n",
    "GBoost = GradientBoostingRegressor(learning_rate=0.012100000000000003, n_estimators=994,\n",
    "                                  max_depth=4,\n",
    "                                   random_state=42, criterion= 'mse')\n",
    "#max_features='sqrt'  min_samples_leaf=15,min_samples_split=10,\n",
    "GBoost.fit(tr_data_pre, tr_ans)\n",
    "\n",
    "y_pred=GBoost.predict(ts_data_pre)\n",
    "pred_df = pd.DataFrame(y_pred)\n",
    "\n",
    "pred_df.to_csv(\"output.csv\", mode='w')"
   ]
  },
  {
   "cell_type": "code",
   "execution_count": null,
   "metadata": {},
   "outputs": [],
   "source": []
  },
  {
   "cell_type": "markdown",
   "metadata": {},
   "source": [
    "## Check Accuracy\n",
    "\n",
    "Only for check accuracy"
   ]
  },
  {
   "cell_type": "code",
   "execution_count": 3,
   "metadata": {},
   "outputs": [
    {
     "name": "stdout",
     "output_type": "stream",
     "text": [
      "0.9873725109276348\n",
      "0.9873725109276348\n",
      "Confusion Matrix:\n",
      "[[420   0   0   0   0   0]\n",
      " [  0 321  21   0   0   0]\n",
      " [  0   3 375   0   0   0]\n",
      " [  0   0   0 317   0   1]\n",
      " [  0   0   0   0 280   0]\n",
      " [  0   0   0   1   0 320]]\n",
      "\n"
     ]
    }
   ],
   "source": [
    "def accuracy(real, predict):\n",
    "    return sum(real == predict) / float(real.shape[0])\n",
    "\n",
    "tk_window = tkinter.Tk()\n",
    "cwd = os.getcwd()\n",
    "ts_ans = pd.read_csv(askopenfilename(title='Choose your test answer'))\n",
    "ts_ans = ts_ans.iloc[:, 0]\n",
    "tk_window.destroy()\n",
    "\n",
    "print(accuracy(ts_ans, y_pred))\n",
    "\n",
    "from sklearn.metrics import confusion_matrix, classification_report, accuracy_score\n",
    "print(accuracy(ts_ans, y_pred))\n",
    "print(\"Confusion Matrix:\\n{}\\n\".format(confusion_matrix(ts_ans, y_pred)))"
   ]
  },
  {
   "cell_type": "code",
   "execution_count": null,
   "metadata": {},
   "outputs": [],
   "source": [
    "k_range = list(range(1,10, 1))\n",
    "scores = []\n",
    "for k in k_range:\n",
    "    #knn = KNeighborsClassifier(n_neighbors=k)\n",
    "    #knn.fit(X_train, y_train)\n",
    "    #y_pred = knn.predict(X_test)\n",
    "    GBoost = GradientBoostingRegressor(learning_rate=0.012100000000000003, n_estimators=994,\n",
    "                                 max_depth=k,\n",
    "                                   random_state=42, criterion= 'mse')\n",
    "#max_features='sqrt'  min_samples_leaf=15,min_samples_split=10,\n",
    "    GBoost.fit(tr_data_pre, tr_ans)\n",
    "    y_pred=GBoost.predict(ts_data_pre)\n",
    "    pred_df = pd.DataFrame(y_pred)\n",
    "    scores.append(rmse(ts_ans, y_pred))\n",
    "    print(rmse(ts_ans, y_pred),k)\n",
    "    \n",
    "#1003\n",
    "plt.plot(k_range, scores)\n",
    "plt.xlabel('Value of k for model')\n",
    "plt.ylabel('Accuracy Score')\n",
    "plt.title('Accuracy Scores for Values of k of model')\n",
    "plt.show()"
   ]
  }
 ],
 "metadata": {
  "kernelspec": {
   "display_name": "Python 3",
   "language": "python",
   "name": "python3"
  },
  "language_info": {
   "codemirror_mode": {
    "name": "ipython",
    "version": 3
   },
   "file_extension": ".py",
   "mimetype": "text/x-python",
   "name": "python",
   "nbconvert_exporter": "python",
   "pygments_lexer": "ipython3",
   "version": "3.7.0"
  }
 },
 "nbformat": 4,
 "nbformat_minor": 2
}
