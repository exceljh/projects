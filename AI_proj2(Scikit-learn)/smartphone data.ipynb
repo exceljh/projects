{
 "cells": [
  {
   "cell_type": "markdown",
   "metadata": {},
   "source": [
    "# Classification Project"
   ]
  },
  {
   "cell_type": "markdown",
   "metadata": {},
   "source": [
    "## File IO\n",
    "\n",
    "Only File IO...\n",
    "\n",
    "You may not change this code."
   ]
  },
  {
   "cell_type": "code",
   "execution_count": 1,
   "metadata": {},
   "outputs": [],
   "source": [
    "from tkinter.filedialog import askopenfilename\n",
    "import pandas as pd\n",
    "import tkinter\n",
    "import os\n",
    "\n",
    "tk_window = tkinter.Tk()\n",
    "cwd = os.getcwd()\n",
    "\n",
    "tr_data = pd.read_csv(askopenfilename(title='Choose your training data'))\n",
    "\n",
    "tr_ans = pd.read_csv(askopenfilename(title='Choose your training answer'))\n",
    "\n",
    "tr_ans = tr_ans.iloc[:, 0]\n",
    "\n",
    "ts_data = pd.read_csv(askopenfilename(title='Choose your test data'))\n",
    "\n",
    "tk_window.destroy()"
   ]
  },
  {
   "cell_type": "markdown",
   "metadata": {},
   "source": [
    "## Predict Algorithm\n",
    "\n",
    "Type your source code (Champion Algorithm)"
   ]
  },
  {
   "cell_type": "code",
   "execution_count": 4,
   "metadata": {},
   "outputs": [
    {
     "name": "stderr",
     "output_type": "stream",
     "text": [
      "C:\\Users\\wlgns\\Anaconda3\\lib\\site-packages\\sklearn\\linear_model\\logistic.py:432: FutureWarning: Default solver will be changed to 'lbfgs' in 0.22. Specify a solver to silence this warning.\n",
      "  FutureWarning)\n",
      "C:\\Users\\wlgns\\Anaconda3\\lib\\site-packages\\sklearn\\linear_model\\logistic.py:459: FutureWarning: Default multi_class will be changed to 'auto' in 0.22. Specify the multi_class option to silence this warning.\n",
      "  \"this warning.\", FutureWarning)\n"
     ]
    }
   ],
   "source": [
    "#smartphone\n",
    "from sklearn.linear_model import LogisticRegression\n",
    "logreg = LogisticRegression(random_state=42,class_weight= 'balanced'  )\n",
    "logreg.fit(tr_data, tr_ans)\n",
    "\n",
    "#,solver='newton-cg'\n",
    "y_pred = logreg.predict(ts_data)\n",
    "\n",
    "pred_df = pd.DataFrame(y_pred)\n",
    "\n",
    "pred_df.to_csv(\"output.csv\", mode='w')"
   ]
  },
  {
   "cell_type": "code",
   "execution_count": null,
   "metadata": {
    "scrolled": true
   },
   "outputs": [],
   "source": [
    "from sklearn.linear_model import Lasso\n",
    "from sklearn.preprocessing import RobustScaler\n",
    "from sklearn.ensemble import GradientBoostingRegressor, GradientBoostingClassifier \n",
    "from sklearn.pipeline import make_pipeline\n",
    "from sklearn.model_selection import KFold, cross_val_score, train_test_split\n",
    "from sklearn.metrics import mean_squared_error\n",
    "from sklearn.base import BaseEstimator, TransformerMixin, RegressorMixin, clone\n",
    "\n",
    "#Gradient Boosting Regression\n",
    "GBoost = GradientBoostingClassifier(learning_rate=0.1, n_estimators=100,\n",
    "                                  max_depth=4,\n",
    "                                   random_state=42, criterion= 'mse')\n",
    "#max_features='sqrt'  min_samples_leaf=15,min_samples_split=10,\n",
    "GBoost.fit(tr_data, tr_ans)\n",
    "\n",
    "y_pred=GBoost.predict(ts_data)\n",
    "pred_df = pd.DataFrame(y_pred)\n",
    "\n",
    "pred_df.to_csv(\"output.csv\", mode='w')"
   ]
  },
  {
   "cell_type": "code",
   "execution_count": 6,
   "metadata": {},
   "outputs": [],
   "source": []
  },
  {
   "cell_type": "markdown",
   "metadata": {},
   "source": [
    "## Check Accuracy\n",
    "\n",
    "Only for check accuracy"
   ]
  },
  {
   "cell_type": "code",
   "execution_count": 5,
   "metadata": {},
   "outputs": [
    {
     "name": "stdout",
     "output_type": "stream",
     "text": [
      "0.9873725109276348\n",
      "0.9873725109276348\n",
      "Confusion Matrix:\n",
      "[[420   0   0   0   0   0]\n",
      " [  0 322  20   0   0   0]\n",
      " [  0   3 375   0   0   0]\n",
      " [  0   0   0 316   1   1]\n",
      " [  0   0   0   0 280   0]\n",
      " [  0   0   0   1   0 320]]\n",
      "\n"
     ]
    }
   ],
   "source": [
    "def accuracy(real, predict):\n",
    "    return sum(real == predict) / float(real.shape[0])\n",
    "\n",
    "tk_window = tkinter.Tk()\n",
    "cwd = os.getcwd()\n",
    "ts_ans = pd.read_csv(askopenfilename(title='Choose your test answer'))\n",
    "ts_ans = ts_ans.iloc[:, 0]\n",
    "tk_window.destroy()\n",
    "\n",
    "print(accuracy(ts_ans, y_pred))\n",
    "\n",
    "from sklearn.metrics import confusion_matrix, classification_report, accuracy_score\n",
    "print(accuracy(ts_ans, y_pred))\n",
    "print(\"Confusion Matrix:\\n{}\\n\".format(confusion_matrix(ts_ans, y_pred)))"
   ]
  },
  {
   "cell_type": "code",
   "execution_count": 4,
   "metadata": {},
   "outputs": [
    {
     "data": {
      "image/png": "[encoded data removed]",
      "text/plain": [
       "<Figure size 720x720 with 1 Axes>"
      ]
     },
     "metadata": {
      "needs_background": "light"
     },
     "output_type": "display_data"
    }
   ],
   "source": [
    "import matplotlib.pyplot as plt\n",
    "import seaborn as sns\n",
    "%matplotlib inline\n",
    "\n",
    "plt.figure(figsize=(10,10))\n",
    "sns.set_context('talk')\n",
    "sns.set_style('ticks')\n",
    "sns.set_palette('dark')\n",
    "\n",
    "ax = plt.axes()\n",
    "# we are going to use y_test, y_test_pred\n",
    "ax.scatter(ts_ans, y_pred, alpha=.1)\n",
    "\n",
    "ax.set(xlabel='Ground truth', \n",
    "       ylabel='Predictions',\n",
    "       title='Ames, Iowa House Price Predictions vs Truth, using Linear Regression');"
   ]
  },
  {
   "cell_type": "code",
   "execution_count": null,
   "metadata": {},
   "outputs": [
    {
     "name": "stdout",
     "output_type": "stream",
     "text": [
      "0.9373482272948033 100\n",
      "0.9378338999514327 103\n",
      "0.932491500728509 106\n",
      "0.9378338999514327 109\n",
      "0.9402622632345798 112\n",
      "0.9373482272948033 115\n",
      "0.9378338999514327 118\n",
      "0.9368625546381739 121\n",
      "0.935891209324915 124\n",
      "0.9344341913550267 127\n",
      "0.9368625546381739 130\n",
      "0.9349198640116562 133\n",
      "0.9349198640116562 136\n",
      "0.9363768819815445 139\n",
      "0.9397765905779505 142\n",
      "0.935891209324915 145\n",
      "0.9378338999514327 148\n",
      "0.9354055366682856 151\n",
      "0.9363768819815445 154\n",
      "0.9363768819815445 157\n",
      "0.9402622632345798 160\n",
      "0.9373482272948033 163\n",
      "0.9378338999514327 166\n",
      "0.9368625546381739 169\n",
      "0.9354055366682856 172\n",
      "0.939290917921321 175\n",
      "0.9388052452646916 178\n",
      "0.9349198640116562 181\n",
      "0.9305488101019913 184\n",
      "0.9383195726080622 187\n"
     ]
    }
   ],
   "source": [
    "k_range = list(range(100,1000, 3))\n",
    "scores = []\n",
    "for k in k_range:\n",
    "    #knn = KNeighborsClassifier(n_neighbors=k)\n",
    "    #knn.fit(X_train, y_train)\n",
    "    #y_pred = knn.predict(X_test)\n",
    "    ABC = AdaBoostClassifier(base_estimator=DecisionTreeClassifier(),\n",
    "    learning_rate=0.1, n_estimators=k)\n",
    "    ABC.fit(tr_data, tr_ans)\n",
    "    y_pred=ABC.predict(ts_data)\n",
    "    pred_df = pd.DataFrame(y_pred)\n",
    "    scores.append(accuracy(ts_ans, y_pred))\n",
    "    print(accuracy(ts_ans, y_pred), k)\n",
    "    \n",
    "#1003\n",
    "plt.plot(k_range, scores)\n",
    "plt.xlabel('Value of k for model')\n",
    "plt.ylabel('Accuracy Score')\n",
    "plt.title('Accuracy Scores for Values of k of model')\n",
    "plt.show()"
   ]
  }
 ],
 "metadata": {
  "kernelspec": {
   "display_name": "Python 3",
   "language": "python",
   "name": "python3"
  },
  "language_info": {
   "codemirror_mode": {
    "name": "ipython",
    "version": 3
   },
   "file_extension": ".py",
   "mimetype": "text/x-python",
   "name": "python",
   "nbconvert_exporter": "python",
   "pygments_lexer": "ipython3",
   "version": "3.7.0"
  }
 },
 "nbformat": 4,
 "nbformat_minor": 2
}
